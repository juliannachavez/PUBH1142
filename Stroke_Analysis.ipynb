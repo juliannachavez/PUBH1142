{
 "cells": [
  {
   "cell_type": "markdown",
   "metadata": {},
   "source": [
    "# Stroke Risk Factors, Indicators and Relevant Variables\n"
   ]
  },
  {
   "cell_type": "markdown",
   "metadata": {},
   "source": [
    "## Julianna Chavez, PUBH 1142\n"
   ]
  },
  {
   "cell_type": "markdown",
   "metadata": {},
   "source": [
    "### Index:\n",
    "- Stroke: when blood is blocked from supplying the brain, or a blood vessel in the brain bursts\n",
    "\n",
    "- Smoking status: The condition of if an individual smokes or not \n",
    "\n",
    "- BMI: Body Mass Index\n",
    "\n",
    "- Blood glucose: the main sugar found in blood\n",
    "\n",
    "- Residence type: category describing geography and community which an indivudal lives, often based on amount of nature compared to buildings and infastructure\n",
    "\n",
    "- Work type: the kind of work an individual engages in, could indicate stress levels and circadian rythym as factors (note, cortisol levels and circadian rythym are not directly examined, only indicated on a premise)\n",
    "\n",
    "- Ever married: if an individual has or has had a spouse, could indicate stress and personal relationships as factors (note, cortisol levels and personal relationships are not directly thoroughly examined, only indicated on a premise)\n",
    "\n",
    "- Heart disease: if in individual has been diagnosed with a heart disease, does not specify type of diease or treatment \n",
    "\n",
    "- Hypertension- High blood pressure (note, severity of hypertension isn't specified or examined)\n",
    "\n",
    "- Age: the age of an individual\n",
    "\n",
    "- Gender: the biological sex of an individual (note, this definition of gender is used for the purpose of analyzing data, not for social or political implications)\n",
    "\n",
    "\n"
   ]
  },
  {
   "cell_type": "code",
   "execution_count": 3,
   "metadata": {},
   "outputs": [],
   "source": [
    "# the following packages are imported to work with data and compleet numerical analysis\n",
    "\n",
    "import pandas as pd\n",
    "\n",
    "import numpy as np \n",
    "\n"
   ]
  },
  {
   "cell_type": "code",
   "execution_count": 6,
   "metadata": {},
   "outputs": [],
   "source": [
    "# Below, I willimport the data as a csv file (csv is the most compatible file format for importing data)\n",
    "df = pd.read_csv('https://raw.githubusercontent.com/juanklopper/TutorialData/main/stroke.csv')\n",
    "\n",
    "\n"
   ]
  },
  {
   "cell_type": "markdown",
   "metadata": {},
   "source": []
  }
 ],
 "metadata": {
  "kernelspec": {
   "display_name": "demo",
   "language": "python",
   "name": "python3"
  },
  "language_info": {
   "codemirror_mode": {
    "name": "ipython",
    "version": 3
   },
   "file_extension": ".py",
   "mimetype": "text/x-python",
   "name": "python",
   "nbconvert_exporter": "python",
   "pygments_lexer": "ipython3",
   "version": "3.12.1"
  }
 },
 "nbformat": 4,
 "nbformat_minor": 2
}
